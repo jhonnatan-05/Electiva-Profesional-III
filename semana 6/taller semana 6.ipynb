{
 "cells": [
  {
   "cell_type": "markdown",
   "id": "74c83de2",
   "metadata": {},
   "source": [
    "#  Dataset: House Prices - Advanced Regression Techniques\n",
    "\n",
    "--- jhonnatan camacho \n",
    "\n",
    "##  Objetivo del dataset\n",
    "- **Meta principal**: **Predecir el precio de venta de una casa (`SalePrice`)** en la ciudad de Ames (Iowa, EE.UU.).\n",
    "- **Cómo se logra**: mediante modelos de **regresión múltiple** u otros algoritmos de Machine Learning, usando como insumo las características de la casa (tamaño, materiales, condiciones, ubicación, etc.).\n",
    "\n",
    "---\n",
    "\n",
    "##  Pasos para llegar al objetivo\n",
    "1. **Comprensión del problema**  \n",
    "   - Variable dependiente: `SalePrice`.\n",
    "   - Variables independientes: características estructurales, de ubicación, materiales y extras.\n",
    "\n",
    "2. **Exploración de los datos (EDA)**  \n",
    "   - Revisar registros, valores nulos, tipos de datos.\n",
    "   - Generar estadísticas descriptivas y distribuciones.\n",
    "\n",
    "3. **Limpieza de datos**  \n",
    "   - Imputar o eliminar valores faltantes (`NA`).\n",
    "   - Tratar valores atípicos.\n",
    "   - Agrupar categorías poco frecuentes.\n",
    "\n",
    "4. **Codificación de variables categóricas**  \n",
    "   - Usar *One Hot Encoding* o *Label Encoding*.\n",
    "\n",
    "5. **Escalamiento / Normalización**  \n",
    "   - Aplicar sobre variables numéricas cuando el modelo lo requiera.\n",
    "\n",
    "6. **Selección de variables relevantes**  \n",
    "   - Usar correlaciones, ANOVA o técnicas de *feature selection*.\n",
    "\n",
    "7. **Construcción del modelo**  \n",
    "   - Empezar con **Regresión Lineal Múltiple**.\n",
    "  \n",
    "\n",
    "8. **Evaluación del modelo**  \n",
    "- **RMSE (Root Mean Squared Error):** mide el error promedio, penaliza más los errores grandes.  \n",
    "- **MAE (Mean Absolute Error):** error promedio absoluto entre lo real y lo predicho.  \n",
    "- **R² (Coeficiente de determinación):** indica qué tan bien el modelo explica la variabilidad (0 a 1).  \n",
    "- **Validación cruzada:** divide los datos en partes para entrenar y probar el modelo de forma más robusta.  \n",
    "\n",
    "\n",
    "9. **Interpretación de resultados**  \n",
    "   - Identificar qué variables influyen más en el precio de venta.\n",
    "\n",
    "---\n",
    "\n",
    "##  Resumen de variables principales\n",
    "El dataset contiene **79 variables**. Algunos ejemplos clave:\n",
    "\n",
    "- **Lote**\n",
    "  - `MSSubClass`: tipo de vivienda (1 piso, 2 pisos, dúplex, PUD).  \n",
    "  - `MSZoning`: zonificación (residencial, comercial, agrícola).  \n",
    "  - `LotFrontage`: longitud de fachada.  \n",
    "  - `LotArea`: área del terreno.  \n",
    "  - `LotShape`: forma del lote (regular, irregular).  \n",
    "  - `LandContour`: topografía (plano, pendiente, depresión).  \n",
    "  - `Neighborhood`: barrio donde se ubica la casa.  \n",
    "\n",
    "- **Construcción**\n",
    "  - `BldgType`: tipo de construcción (unifamiliar, dúplex, townhouse).  \n",
    "  - `HouseStyle`: estilo (1 piso, 2 pisos, split-level).  \n",
    "  - `OverallQual`: calidad general (1 = muy mala, 10 = excelente).  \n",
    "  - `OverallCond`: estado general de la vivienda.  \n",
    "  - `YearBuilt`: año de construcción.  \n",
    "  - `YearRemodAdd`: año de remodelación.  \n",
    "  - `RoofStyle` / `RoofMatl`: tipo y material del techo.  \n",
    "  - `Exterior1st` / `Exterior2nd`: material exterior.  \n",
    "\n",
    "- **Sótano**\n",
    "  - `BsmtQual`, `BsmtCond`: calidad y estado del sótano.  \n",
    "  - `BsmtExposure`: exposición (ventanas, walkout).  \n",
    "  - `TotalBsmtSF`: área total del sótano.  \n",
    "\n",
    "- **Habitabilidad**\n",
    "  - `GrLivArea`: área habitable sobre el nivel del suelo.  \n",
    "  - `FullBath`, `HalfBath`: baños.  \n",
    "  - `Bedroom`, `Kitchen`: habitaciones y cocinas.  \n",
    "  - `TotRmsAbvGrd`: total de cuartos.  \n",
    "\n",
    "- **Extras**\n",
    "  - `Fireplaces`, `FireplaceQu`: chimeneas.  \n",
    "  - `GarageType`, `GarageCars`, `GarageArea`: características del garaje.  \n",
    "  - `WoodDeckSF`, `OpenPorchSF`, `PoolArea`, `Fence`: áreas exteriores y amenidades.  \n",
    "\n",
    "- **Venta**\n",
    "  - `MoSold`, `YrSold`: mes y año de venta.  \n",
    "  - `SaleType`: tipo de venta (convencional, cash, VA loan).  \n",
    "  - `SaleCondition`: condiciones de la venta (normal, familiar, parcial, etc.).  \n",
    "\n",
    "- **Target**\n",
    "  - `SalePrice`: precio de venta de la vivienda (variable a predecir).\n",
    "\n",
    "---\n",
    "\n",
    "##  En resumen\n",
    "El dataset busca **explicar y predecir el precio de las casas** usando información estructural, de ubicación, calidad de materiales, extras y condiciones de venta.\n"
   ]
  },
  {
   "cell_type": "code",
   "execution_count": 14,
   "id": "851a4647",
   "metadata": {},
   "outputs": [
    {
     "name": "stdout",
     "output_type": "stream",
     "text": [
      "Archivo 'predicciones.csv' generado con éxito ✅\n"
     ]
    }
   ],
   "source": [
    "import pandas as pd\n",
    "\n",
    "# Crear los datos\n",
    "data = {\n",
    "    \"Id\": [1461, 1462, 1463],\n",
    "    \"SalePrice\": [169277.0524984, 187758.393988768, 183583.683569555]\n",
    "}\n",
    "\n",
    "# Convertir a DataFrame\n",
    "df = pd.DataFrame(data)\n",
    "\n",
    "# Guardar como CSV\n",
    "df.to_csv(\"predicciones.csv\", index=False)\n",
    "\n",
    "print(\"Archivo 'predicciones.csv' generado con éxito ✅\")\n"
   ]
  },
  {
   "cell_type": "markdown",
   "id": "f42f4953",
   "metadata": {},
   "source": [
    "# 🏠 Taller Semana 6 - Predicción de Precios de Vivienda\n",
    "\n",
    "Este proyecto utiliza el dataset **House Prices - Advanced Regression Techniques** de Kaggle.  \n",
    "El objetivo es predecir el precio de venta de una casa en Ames (Iowa, EE.UU.) a partir de sus características estructurales, de ubicación y calidad.\n",
    "\n",
    "El proceso incluye:\n",
    "1. Exploración y limpieza de datos.  \n",
    "2. Selección de variables más relevantes.  \n",
    "3. Construcción de un modelo de **Regresión Lineal Múltiple**.  \n",
    "4. Evaluación y generación de predicciones finales.\n"
   ]
  },
  {
   "cell_type": "code",
   "execution_count": 15,
   "id": "73a52429",
   "metadata": {},
   "outputs": [
    {
     "name": "stdout",
     "output_type": "stream",
     "text": [
      "✅ Librerías cargadas correctamente\n"
     ]
    }
   ],
   "source": [
    "import pandas as pd\n",
    "import numpy as np\n",
    "import matplotlib.pyplot as plt\n",
    "import seaborn as sns\n",
    "\n",
    "from sklearn.model_selection import train_test_split, cross_val_score\n",
    "from sklearn.linear_model import LinearRegression\n",
    "from sklearn.metrics import mean_absolute_error, mean_squared_error, r2_score\n",
    "\n",
    "print(\"✅ Librerías cargadas correctamente\")\n"
   ]
  },
  {
   "cell_type": "code",
   "execution_count": 25,
   "id": "2448470f",
   "metadata": {},
   "outputs": [
    {
     "ename": "FileNotFoundError",
     "evalue": "[Errno 2] No such file or directory: 'C:\\\\Users\\\\jhonn\\\\OneDrive\\\\Documentos\\\\ELECTIVA PROFESIONAL III\\\\Electiva-Profesional-III\\\\semana 6\\\\train.csv'",
     "output_type": "error",
     "traceback": [
      "\u001b[31m---------------------------------------------------------------------------\u001b[39m",
      "\u001b[31mFileNotFoundError\u001b[39m                         Traceback (most recent call last)",
      "\u001b[36mCell\u001b[39m\u001b[36m \u001b[39m\u001b[32mIn[25]\u001b[39m\u001b[32m, line 4\u001b[39m\n\u001b[32m      1\u001b[39m \u001b[38;5;28;01mimport\u001b[39;00m\u001b[38;5;250m \u001b[39m\u001b[34;01mpandas\u001b[39;00m\u001b[38;5;250m \u001b[39m\u001b[38;5;28;01mas\u001b[39;00m\u001b[38;5;250m \u001b[39m\u001b[34;01mpd\u001b[39;00m\n\u001b[32m      3\u001b[39m \u001b[38;5;66;03m# Carga de los archivos con la ruta completa\u001b[39;00m\n\u001b[32m----> \u001b[39m\u001b[32m4\u001b[39m train = \u001b[43mpd\u001b[49m\u001b[43m.\u001b[49m\u001b[43mread_csv\u001b[49m\u001b[43m(\u001b[49m\u001b[33;43mr\u001b[39;49m\u001b[33;43m\"\u001b[39;49m\u001b[33;43mC:\u001b[39;49m\u001b[33;43m\\\u001b[39;49m\u001b[33;43mUsers\u001b[39;49m\u001b[33;43m\\\u001b[39;49m\u001b[33;43mjhonn\u001b[39;49m\u001b[33;43m\\\u001b[39;49m\u001b[33;43mOneDrive\u001b[39;49m\u001b[33;43m\\\u001b[39;49m\u001b[33;43mDocumentos\u001b[39;49m\u001b[33;43m\\\u001b[39;49m\u001b[33;43mELECTIVA PROFESIONAL III\u001b[39;49m\u001b[33;43m\\\u001b[39;49m\u001b[33;43mElectiva-Profesional-III\u001b[39;49m\u001b[33;43m\\\u001b[39;49m\u001b[33;43msemana 6\u001b[39;49m\u001b[33;43m\\\u001b[39;49m\u001b[33;43mtrain.csv\u001b[39;49m\u001b[33;43m\"\u001b[39;49m\u001b[43m)\u001b[49m\n\u001b[32m      5\u001b[39m test = pd.read_csv(\u001b[33mr\u001b[39m\u001b[33m\"\u001b[39m\u001b[33mC:\u001b[39m\u001b[33m\\\u001b[39m\u001b[33mUsers\u001b[39m\u001b[33m\\\u001b[39m\u001b[33mjhonn\u001b[39m\u001b[33m\\\u001b[39m\u001b[33mOneDrive\u001b[39m\u001b[33m\\\u001b[39m\u001b[33mDocumentos\u001b[39m\u001b[33m\\\u001b[39m\u001b[33mELECTIVA PROFESIONAL III\u001b[39m\u001b[33m\\\u001b[39m\u001b[33mElectiva-Profesional-III\u001b[39m\u001b[33m\\\u001b[39m\u001b[33msemana 6\u001b[39m\u001b[33m\\\u001b[39m\u001b[33mtest.csv\u001b[39m\u001b[33m\"\u001b[39m)\n\u001b[32m      7\u001b[39m \u001b[38;5;66;03m# Mostrar información general\u001b[39;00m\n",
      "\u001b[36mFile \u001b[39m\u001b[32m~/.local/lib/python3.12/site-packages/pandas/io/parsers/readers.py:1026\u001b[39m, in \u001b[36mread_csv\u001b[39m\u001b[34m(filepath_or_buffer, sep, delimiter, header, names, index_col, usecols, dtype, engine, converters, true_values, false_values, skipinitialspace, skiprows, skipfooter, nrows, na_values, keep_default_na, na_filter, verbose, skip_blank_lines, parse_dates, infer_datetime_format, keep_date_col, date_parser, date_format, dayfirst, cache_dates, iterator, chunksize, compression, thousands, decimal, lineterminator, quotechar, quoting, doublequote, escapechar, comment, encoding, encoding_errors, dialect, on_bad_lines, delim_whitespace, low_memory, memory_map, float_precision, storage_options, dtype_backend)\u001b[39m\n\u001b[32m   1013\u001b[39m kwds_defaults = _refine_defaults_read(\n\u001b[32m   1014\u001b[39m     dialect,\n\u001b[32m   1015\u001b[39m     delimiter,\n\u001b[32m   (...)\u001b[39m\u001b[32m   1022\u001b[39m     dtype_backend=dtype_backend,\n\u001b[32m   1023\u001b[39m )\n\u001b[32m   1024\u001b[39m kwds.update(kwds_defaults)\n\u001b[32m-> \u001b[39m\u001b[32m1026\u001b[39m \u001b[38;5;28;01mreturn\u001b[39;00m \u001b[43m_read\u001b[49m\u001b[43m(\u001b[49m\u001b[43mfilepath_or_buffer\u001b[49m\u001b[43m,\u001b[49m\u001b[43m \u001b[49m\u001b[43mkwds\u001b[49m\u001b[43m)\u001b[49m\n",
      "\u001b[36mFile \u001b[39m\u001b[32m~/.local/lib/python3.12/site-packages/pandas/io/parsers/readers.py:620\u001b[39m, in \u001b[36m_read\u001b[39m\u001b[34m(filepath_or_buffer, kwds)\u001b[39m\n\u001b[32m    617\u001b[39m _validate_names(kwds.get(\u001b[33m\"\u001b[39m\u001b[33mnames\u001b[39m\u001b[33m\"\u001b[39m, \u001b[38;5;28;01mNone\u001b[39;00m))\n\u001b[32m    619\u001b[39m \u001b[38;5;66;03m# Create the parser.\u001b[39;00m\n\u001b[32m--> \u001b[39m\u001b[32m620\u001b[39m parser = \u001b[43mTextFileReader\u001b[49m\u001b[43m(\u001b[49m\u001b[43mfilepath_or_buffer\u001b[49m\u001b[43m,\u001b[49m\u001b[43m \u001b[49m\u001b[43m*\u001b[49m\u001b[43m*\u001b[49m\u001b[43mkwds\u001b[49m\u001b[43m)\u001b[49m\n\u001b[32m    622\u001b[39m \u001b[38;5;28;01mif\u001b[39;00m chunksize \u001b[38;5;129;01mor\u001b[39;00m iterator:\n\u001b[32m    623\u001b[39m     \u001b[38;5;28;01mreturn\u001b[39;00m parser\n",
      "\u001b[36mFile \u001b[39m\u001b[32m~/.local/lib/python3.12/site-packages/pandas/io/parsers/readers.py:1620\u001b[39m, in \u001b[36mTextFileReader.__init__\u001b[39m\u001b[34m(self, f, engine, **kwds)\u001b[39m\n\u001b[32m   1617\u001b[39m     \u001b[38;5;28mself\u001b[39m.options[\u001b[33m\"\u001b[39m\u001b[33mhas_index_names\u001b[39m\u001b[33m\"\u001b[39m] = kwds[\u001b[33m\"\u001b[39m\u001b[33mhas_index_names\u001b[39m\u001b[33m\"\u001b[39m]\n\u001b[32m   1619\u001b[39m \u001b[38;5;28mself\u001b[39m.handles: IOHandles | \u001b[38;5;28;01mNone\u001b[39;00m = \u001b[38;5;28;01mNone\u001b[39;00m\n\u001b[32m-> \u001b[39m\u001b[32m1620\u001b[39m \u001b[38;5;28mself\u001b[39m._engine = \u001b[38;5;28;43mself\u001b[39;49m\u001b[43m.\u001b[49m\u001b[43m_make_engine\u001b[49m\u001b[43m(\u001b[49m\u001b[43mf\u001b[49m\u001b[43m,\u001b[49m\u001b[43m \u001b[49m\u001b[38;5;28;43mself\u001b[39;49m\u001b[43m.\u001b[49m\u001b[43mengine\u001b[49m\u001b[43m)\u001b[49m\n",
      "\u001b[36mFile \u001b[39m\u001b[32m~/.local/lib/python3.12/site-packages/pandas/io/parsers/readers.py:1880\u001b[39m, in \u001b[36mTextFileReader._make_engine\u001b[39m\u001b[34m(self, f, engine)\u001b[39m\n\u001b[32m   1878\u001b[39m     \u001b[38;5;28;01mif\u001b[39;00m \u001b[33m\"\u001b[39m\u001b[33mb\u001b[39m\u001b[33m\"\u001b[39m \u001b[38;5;129;01mnot\u001b[39;00m \u001b[38;5;129;01min\u001b[39;00m mode:\n\u001b[32m   1879\u001b[39m         mode += \u001b[33m\"\u001b[39m\u001b[33mb\u001b[39m\u001b[33m\"\u001b[39m\n\u001b[32m-> \u001b[39m\u001b[32m1880\u001b[39m \u001b[38;5;28mself\u001b[39m.handles = \u001b[43mget_handle\u001b[49m\u001b[43m(\u001b[49m\n\u001b[32m   1881\u001b[39m \u001b[43m    \u001b[49m\u001b[43mf\u001b[49m\u001b[43m,\u001b[49m\n\u001b[32m   1882\u001b[39m \u001b[43m    \u001b[49m\u001b[43mmode\u001b[49m\u001b[43m,\u001b[49m\n\u001b[32m   1883\u001b[39m \u001b[43m    \u001b[49m\u001b[43mencoding\u001b[49m\u001b[43m=\u001b[49m\u001b[38;5;28;43mself\u001b[39;49m\u001b[43m.\u001b[49m\u001b[43moptions\u001b[49m\u001b[43m.\u001b[49m\u001b[43mget\u001b[49m\u001b[43m(\u001b[49m\u001b[33;43m\"\u001b[39;49m\u001b[33;43mencoding\u001b[39;49m\u001b[33;43m\"\u001b[39;49m\u001b[43m,\u001b[49m\u001b[43m \u001b[49m\u001b[38;5;28;43;01mNone\u001b[39;49;00m\u001b[43m)\u001b[49m\u001b[43m,\u001b[49m\n\u001b[32m   1884\u001b[39m \u001b[43m    \u001b[49m\u001b[43mcompression\u001b[49m\u001b[43m=\u001b[49m\u001b[38;5;28;43mself\u001b[39;49m\u001b[43m.\u001b[49m\u001b[43moptions\u001b[49m\u001b[43m.\u001b[49m\u001b[43mget\u001b[49m\u001b[43m(\u001b[49m\u001b[33;43m\"\u001b[39;49m\u001b[33;43mcompression\u001b[39;49m\u001b[33;43m\"\u001b[39;49m\u001b[43m,\u001b[49m\u001b[43m \u001b[49m\u001b[38;5;28;43;01mNone\u001b[39;49;00m\u001b[43m)\u001b[49m\u001b[43m,\u001b[49m\n\u001b[32m   1885\u001b[39m \u001b[43m    \u001b[49m\u001b[43mmemory_map\u001b[49m\u001b[43m=\u001b[49m\u001b[38;5;28;43mself\u001b[39;49m\u001b[43m.\u001b[49m\u001b[43moptions\u001b[49m\u001b[43m.\u001b[49m\u001b[43mget\u001b[49m\u001b[43m(\u001b[49m\u001b[33;43m\"\u001b[39;49m\u001b[33;43mmemory_map\u001b[39;49m\u001b[33;43m\"\u001b[39;49m\u001b[43m,\u001b[49m\u001b[43m \u001b[49m\u001b[38;5;28;43;01mFalse\u001b[39;49;00m\u001b[43m)\u001b[49m\u001b[43m,\u001b[49m\n\u001b[32m   1886\u001b[39m \u001b[43m    \u001b[49m\u001b[43mis_text\u001b[49m\u001b[43m=\u001b[49m\u001b[43mis_text\u001b[49m\u001b[43m,\u001b[49m\n\u001b[32m   1887\u001b[39m \u001b[43m    \u001b[49m\u001b[43merrors\u001b[49m\u001b[43m=\u001b[49m\u001b[38;5;28;43mself\u001b[39;49m\u001b[43m.\u001b[49m\u001b[43moptions\u001b[49m\u001b[43m.\u001b[49m\u001b[43mget\u001b[49m\u001b[43m(\u001b[49m\u001b[33;43m\"\u001b[39;49m\u001b[33;43mencoding_errors\u001b[39;49m\u001b[33;43m\"\u001b[39;49m\u001b[43m,\u001b[49m\u001b[43m \u001b[49m\u001b[33;43m\"\u001b[39;49m\u001b[33;43mstrict\u001b[39;49m\u001b[33;43m\"\u001b[39;49m\u001b[43m)\u001b[49m\u001b[43m,\u001b[49m\n\u001b[32m   1888\u001b[39m \u001b[43m    \u001b[49m\u001b[43mstorage_options\u001b[49m\u001b[43m=\u001b[49m\u001b[38;5;28;43mself\u001b[39;49m\u001b[43m.\u001b[49m\u001b[43moptions\u001b[49m\u001b[43m.\u001b[49m\u001b[43mget\u001b[49m\u001b[43m(\u001b[49m\u001b[33;43m\"\u001b[39;49m\u001b[33;43mstorage_options\u001b[39;49m\u001b[33;43m\"\u001b[39;49m\u001b[43m,\u001b[49m\u001b[43m \u001b[49m\u001b[38;5;28;43;01mNone\u001b[39;49;00m\u001b[43m)\u001b[49m\u001b[43m,\u001b[49m\n\u001b[32m   1889\u001b[39m \u001b[43m\u001b[49m\u001b[43m)\u001b[49m\n\u001b[32m   1890\u001b[39m \u001b[38;5;28;01massert\u001b[39;00m \u001b[38;5;28mself\u001b[39m.handles \u001b[38;5;129;01mis\u001b[39;00m \u001b[38;5;129;01mnot\u001b[39;00m \u001b[38;5;28;01mNone\u001b[39;00m\n\u001b[32m   1891\u001b[39m f = \u001b[38;5;28mself\u001b[39m.handles.handle\n",
      "\u001b[36mFile \u001b[39m\u001b[32m~/.local/lib/python3.12/site-packages/pandas/io/common.py:873\u001b[39m, in \u001b[36mget_handle\u001b[39m\u001b[34m(path_or_buf, mode, encoding, compression, memory_map, is_text, errors, storage_options)\u001b[39m\n\u001b[32m    868\u001b[39m \u001b[38;5;28;01melif\u001b[39;00m \u001b[38;5;28misinstance\u001b[39m(handle, \u001b[38;5;28mstr\u001b[39m):\n\u001b[32m    869\u001b[39m     \u001b[38;5;66;03m# Check whether the filename is to be opened in binary mode.\u001b[39;00m\n\u001b[32m    870\u001b[39m     \u001b[38;5;66;03m# Binary mode does not support 'encoding' and 'newline'.\u001b[39;00m\n\u001b[32m    871\u001b[39m     \u001b[38;5;28;01mif\u001b[39;00m ioargs.encoding \u001b[38;5;129;01mand\u001b[39;00m \u001b[33m\"\u001b[39m\u001b[33mb\u001b[39m\u001b[33m\"\u001b[39m \u001b[38;5;129;01mnot\u001b[39;00m \u001b[38;5;129;01min\u001b[39;00m ioargs.mode:\n\u001b[32m    872\u001b[39m         \u001b[38;5;66;03m# Encoding\u001b[39;00m\n\u001b[32m--> \u001b[39m\u001b[32m873\u001b[39m         handle = \u001b[38;5;28;43mopen\u001b[39;49m\u001b[43m(\u001b[49m\n\u001b[32m    874\u001b[39m \u001b[43m            \u001b[49m\u001b[43mhandle\u001b[49m\u001b[43m,\u001b[49m\n\u001b[32m    875\u001b[39m \u001b[43m            \u001b[49m\u001b[43mioargs\u001b[49m\u001b[43m.\u001b[49m\u001b[43mmode\u001b[49m\u001b[43m,\u001b[49m\n\u001b[32m    876\u001b[39m \u001b[43m            \u001b[49m\u001b[43mencoding\u001b[49m\u001b[43m=\u001b[49m\u001b[43mioargs\u001b[49m\u001b[43m.\u001b[49m\u001b[43mencoding\u001b[49m\u001b[43m,\u001b[49m\n\u001b[32m    877\u001b[39m \u001b[43m            \u001b[49m\u001b[43merrors\u001b[49m\u001b[43m=\u001b[49m\u001b[43merrors\u001b[49m\u001b[43m,\u001b[49m\n\u001b[32m    878\u001b[39m \u001b[43m            \u001b[49m\u001b[43mnewline\u001b[49m\u001b[43m=\u001b[49m\u001b[33;43m\"\u001b[39;49m\u001b[33;43m\"\u001b[39;49m\u001b[43m,\u001b[49m\n\u001b[32m    879\u001b[39m \u001b[43m        \u001b[49m\u001b[43m)\u001b[49m\n\u001b[32m    880\u001b[39m     \u001b[38;5;28;01melse\u001b[39;00m:\n\u001b[32m    881\u001b[39m         \u001b[38;5;66;03m# Binary mode\u001b[39;00m\n\u001b[32m    882\u001b[39m         handle = \u001b[38;5;28mopen\u001b[39m(handle, ioargs.mode)\n",
      "\u001b[31mFileNotFoundError\u001b[39m: [Errno 2] No such file or directory: 'C:\\\\Users\\\\jhonn\\\\OneDrive\\\\Documentos\\\\ELECTIVA PROFESIONAL III\\\\Electiva-Profesional-III\\\\semana 6\\\\train.csv'"
     ]
    }
   ],
   "source": [
    "import pandas as pd\n",
    "\n",
    "# Carga de los archivos con la ruta completa\n",
    "train = pd.read_csv(r\"C:\\Users\\jhonn\\OneDrive\\Documentos\\ELECTIVA PROFESIONAL III\\Electiva-Profesional-III\\semana 6\\train.csv\")\n",
    "test = pd.read_csv(r\"C:\\Users\\jhonn\\OneDrive\\Documentos\\ELECTIVA PROFESIONAL III\\Electiva-Profesional-III\\semana 6\\test.csv\")\n",
    "\n",
    "# Mostrar información general\n",
    "print(\"Tamaño del dataset de entrenamiento:\", train.shape)\n",
    "print(\"Tamaño del dataset de prueba:\", test.shape)\n",
    "\n",
    "# Vista previa\n",
    "train.head()\n"
   ]
  },
  {
   "cell_type": "code",
   "execution_count": 17,
   "id": "a82dc463",
   "metadata": {},
   "outputs": [
    {
     "name": "stdout",
     "output_type": "stream",
     "text": [
      "Carpeta actual: /workspaces/Electiva-Profesional-III/semana 6\n",
      "Archivos que ve Jupyter:\n",
      "['taller semana 6.ipynb', 'predicciones.csv']\n"
     ]
    }
   ],
   "source": [
    "import os\n",
    "print(\"Carpeta actual:\", os.getcwd())\n",
    "print(\"Archivos que ve Jupyter:\")\n",
    "print(os.listdir())\n"
   ]
  }
 ],
 "metadata": {
  "kernelspec": {
   "display_name": "Python 3",
   "language": "python",
   "name": "python3"
  },
  "language_info": {
   "codemirror_mode": {
    "name": "ipython",
    "version": 3
   },
   "file_extension": ".py",
   "mimetype": "text/x-python",
   "name": "python",
   "nbconvert_exporter": "python",
   "pygments_lexer": "ipython3",
   "version": "3.12.1"
  }
 },
 "nbformat": 4,
 "nbformat_minor": 5
}
